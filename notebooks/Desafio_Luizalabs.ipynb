{
  "nbformat": 4,
  "nbformat_minor": 0,
  "metadata": {
    "colab": {
      "name": "Desafio Luizalabs.ipynb",
      "provenance": [],
      "collapsed_sections": [],
      "authorship_tag": "ABX9TyNoRT10siTtv1pl8SCm9iHn",
      "include_colab_link": true
    },
    "kernelspec": {
      "name": "python3",
      "display_name": "Python 3"
    },
    "language_info": {
      "name": "python"
    }
  },
  "cells": [
    {
      "cell_type": "markdown",
      "metadata": {
        "id": "view-in-github",
        "colab_type": "text"
      },
      "source": [
        "<a href=\"https://colab.research.google.com/github/ignitz/teste_luizalabs/blob/main/notebooks/Desafio_Luizalabs.ipynb\" target=\"_parent\"><img src=\"https://colab.research.google.com/assets/colab-badge.svg\" alt=\"Open In Colab\"/></a>"
      ]
    },
    {
      "cell_type": "markdown",
      "metadata": {
        "id": "Z8Jyxm79eyjt"
      },
      "source": [
        "# Desafio Luizalabs\n",
        "\n",
        "> Yuri Niitsuma\n",
        "\n",
        "[Colab](https://colab.research.google.com/drive/1MpLpGatDDtAmdPAYawasUkreaNitwKPz#scrollTo=Z8Jyxm79eyjt)\n",
        "\n",
        "Esse é o desafio para ​Engenharia de Dados ​do Luizalabs. Esse desafio contém 2 partes onde você precisará demonstrar seus conhecimentos em:\n",
        "\n",
        "- Apache Spark (Scala ou Python)\n",
        "- Estruturas de Dados\n",
        "- Programação\n",
        "\n",
        "Ao final de cada task você deve exportar um CSV para que possamos conferir o seu resultado. Você deve também versionar o seu código no github/bitbucket/gitlab de modo que possamos avaliar o seu desenvolvimento. Inclua no repositório os CSVs gerados.\n",
        "Devemos conseguir rodar seu código e obter o mesmo resultado dos seus CSVs.\n"
      ]
    },
    {
      "cell_type": "markdown",
      "metadata": {
        "id": "q7zS-0mffCMb"
      },
      "source": [
        "## Configuração do ambiente no Google Colab\n",
        "\n",
        "O Google Colab foi escolhido pois para o teste será mais fácil de apresentar e replicá-lo."
      ]
    },
    {
      "cell_type": "code",
      "metadata": {
        "colab": {
          "base_uri": "https://localhost:8080/"
        },
        "id": "ISLCOh2dMFfj",
        "outputId": "ff54cb5b-5919-45a7-c53f-eeebf490ca2c"
      },
      "source": [
        "# Instalação do pyspark no ambiente. Na versão 3 pyspark já vem incluso os binários do Spark deixando de instalar e configurar separadamente.\n",
        "!pip install -q pyspark"
      ],
      "execution_count": 1,
      "outputs": [
        {
          "output_type": "stream",
          "text": [
            "\u001b[K     |████████████████████████████████| 212.4 MB 65 kB/s \n",
            "\u001b[K     |████████████████████████████████| 198 kB 57.9 MB/s \n",
            "\u001b[?25h  Building wheel for pyspark (setup.py) ... \u001b[?25l\u001b[?25hdone\n"
          ],
          "name": "stdout"
        }
      ]
    },
    {
      "cell_type": "code",
      "metadata": {
        "id": "CkIo8aWYf0Nc"
      },
      "source": [
        "# Inicialização do Spark Single Node\n",
        "import pyspark\n",
        "from pyspark.sql import SparkSession\n",
        "spark = SparkSession.builder.master('local[*]').getOrCreate()"
      ],
      "execution_count": 2,
      "outputs": []
    },
    {
      "cell_type": "code",
      "metadata": {
        "id": "tXBxC571hmDw"
      },
      "source": [
        "# Bibliotecas auxiliriares\n",
        "import re\n",
        "from pyspark.sql.functions import *"
      ],
      "execution_count": 3,
      "outputs": []
    },
    {
      "cell_type": "markdown",
      "metadata": {
        "id": "cuxacBz7f9L0"
      },
      "source": [
        "## Task 1\n",
        "\n",
        "Leia o arquivo de texto *wordcount.txt*, e conte as palavras que contém até 10 letras. Conte também quantas palavras com mais de 10 letras existem no texto.\n",
        "\n",
        "Dataset: https://storage.googleapis.com/luizalabs-hiring-test/wordcount.txt"
      ]
    },
    {
      "cell_type": "code",
      "metadata": {
        "colab": {
          "base_uri": "https://localhost:8080/"
        },
        "id": "AknXw_3AMLDx",
        "outputId": "bee9bd4c-6b79-4ec0-c0a0-69477f1afc94"
      },
      "source": [
        "!mkdir -pv data/wordcount && curl -o data/wordcount/data.txt https://storage.googleapis.com/luizalabs-hiring-test/wordcount.txt"
      ],
      "execution_count": 4,
      "outputs": [
        {
          "output_type": "stream",
          "text": [
            "mkdir: created directory 'data'\n",
            "mkdir: created directory 'data/wordcount'\n",
            "  % Total    % Received % Xferd  Average Speed   Time    Time     Time  Current\n",
            "                                 Dload  Upload   Total   Spent    Left  Speed\n",
            "100 18436  100 18436    0     0  29592      0 --:--:-- --:--:-- --:--:-- 29544\n"
          ],
          "name": "stdout"
        }
      ]
    },
    {
      "cell_type": "code",
      "metadata": {
        "colab": {
          "base_uri": "https://localhost:8080/"
        },
        "id": "0fbWpruDgVfq",
        "outputId": "4d10e61e-94ab-4792-ad30-ea922f2020dd"
      },
      "source": [
        "# Investigando o conteúdo dos dados\n",
        "!head -n 1 data/wordcount/data.txt"
      ],
      "execution_count": 5,
      "outputs": [
        {
          "output_type": "stream",
          "text": [
            "henDRERIt. MoNTEs PURus lUCtUS DIcTuM, eST Mattis ESt phasELLUS DiGNISsiM rHoNcUS cuBIlIa sIT nunC aT inTErDum vIvamUS lUcTuS AntE AC. amet ELEmEnTUM CoNGUE jUsTO eGET, EGEsTas VITaE Per lacus SOCIiS PURus quIsQUE LUCtUs eLeIfeNd INcEPTOs condiMENTuM eTIAM VEl aUGuE VivaMus prOin eget plAcerAt. conUbia OdIo IncePTOS FeugiAT etiAM venEnaTis. cLAsS LaCuS uLTriceS CoNVaLliS AEnEan. DiAm DoNEc In socIis nEQUe ac DignIssIM AT ultRICEs. NiSL. sEMpeR netus cubilIA. NUnC ANtE. pOrttItOR ALIQueT PROIN, EROs vIverRA sOdALeS NeTuS INTEgER aUCToR. TORtOR uLtRICIES, cuBiLiA NEtUS pOsuERE ipSUM qUAM mONtes soCiosqu VIVAMuS. cONDiMentum IN LeCTus. NaSCetUr eU EtIAM nEC tempoR POsUEre SaGIttIs RutRUm. LuCtuS FACiLIsIs FeUgIAT tURPIs PLATeA, uT ErOS PoRTTITOr vIVerRa LIGULA iPSuM ETIAm plACErAT. eleMENtUm seM sEmpeR nec FRiNGILLa DiCtUMST egeT sIT MalesUaDA saGiTTis ArCu. JUsTo cUm ODIo aNte LectuS pOtENTI nIBh aMEt vel Netus. peNaTIBUS, vIVAMUs RUtrum OrCi SOlLicItUDIN COMMODO pLAcErAt NullA mORBI PuLvinaR ConuBiA SodALeS MaGNiS, mASSA NaToQue SEM FAUcIbus, SuspENDISsE torTOr A scElERIsQuE. dapIBUs. MONTeS InTeGEr VoLUtPat iN faCiLiSi. FERmENtUM NisI nisI EgestAS sapIEn tEmpoR CuBILIa. DoLoR DonEc Metus pLAceRat lAOreeT mEtUs Mi phAREtrA VEHicuLA volUtPAT ANte moNTes suSCIPiT. NAscetur VElit aC FaCIlISi, HabitaNt inTErDUm liTora VeSTIBuLUM dOloR quISque aEnean velIT CUrAE; neC ULLAMCoRPEr duI quaM PROiN. CoNVALLiS urNa qUaM. DICTUmst Mi aD triStiQue nUNC. POrttITOR SOCIIS PeDe AMet EtiaM nulLAM LIgULA Eu curaE; intErdUM eLementuM VariUS JUSto vITAE alIqUam porta alIqUAM socIIs NON. Rhoncus VeSTIBuLUm NetuS CrAs quISqUe pReTIUM coNsEcTeTuEr hAc orCI EGESTAs aLIQuAm NEc ultRICeS oDio VIvamUS UlTRICies blANdit hyMenAeoS DIAm In cONValliS, sUsCIPIt sOcIIS PEr TElLus egEStAs eNIM TEmPus VIVaMus EUisMoD PLatEA pEr tINcIDUNT litOra NiSl cURsuS. sUspendiSSe MaGnIs UT FACIliSIs ERoS. Et lacINIa arCU. diS FAUCibuS POtENTI ulTrICieS, aC integEr MUS DIctUMST LEctus CURSus SOcIoSqu ODIO ACCUmsAN. RuTrum. Ac. nEC TRIStique aliquET tEmPUS sit NASceTUR MaSSa teMPUs MONTES FERmEnTUm ELEiFEnd toRqUeNt cum torqueNt morBi EleIfEnD. vEl PuRUS diAM vEL hABitAsSE nIBH. pRimis rutrum. scElerIsQUe TrISTiqUE penAtIBuS. lectUs, MI LitOrA TeMPuS. saPiEn ullAMCorpeR vEnENaTIS. potEntI ipsUM. elIT CONVALliS sEM BiBENDUm. habiTaNT toRquENT RutRuM eRos HaBiTasse LEO SEMPER TacItI ullaMCoRper MAgna URNa ImPerdiEt ERaT LEo nEQue FeRmentUM PArTuRIEnt.\n"
          ],
          "name": "stdout"
        }
      ]
    },
    {
      "cell_type": "markdown",
      "metadata": {
        "id": "ggNsbNKIgrGE"
      },
      "source": [
        "Vemos que o conteúdo das palavras contém maiúsculos e minúsculos e possuem pontuações ('.', ';', ','). Para garantir que não afete na contagem da palavra parseada faremos uma limpeza filtrando por caracteres alfanuméricos quando o arquivo for lido pelo Spark.\n"
      ]
    },
    {
      "cell_type": "markdown",
      "metadata": {
        "id": "OFRdd9QXMWtM"
      },
      "source": [
        "A estratégia utilizada será com RDD para parsear as palavras utilizando Spark. (E é um dos primeiros exemplos que está no site oficial do Spark http://spark.apache.org/examples.html)"
      ]
    },
    {
      "cell_type": "code",
      "metadata": {
        "id": "sck8Hn5zMaL3"
      },
      "source": [
        "text_file = spark.sparkContext.textFile(\"data/wordcount/data.txt\")"
      ],
      "execution_count": 6,
      "outputs": []
    },
    {
      "cell_type": "code",
      "metadata": {
        "colab": {
          "base_uri": "https://localhost:8080/"
        },
        "id": "LUq3W7DXhYui",
        "outputId": "918d0852-e0e1-4f81-b9d9-b14104f4cb05"
      },
      "source": [
        "words = text_file.flatMap(lambda line: line.split(\" \"))\\\n",
        "             .map(lambda word: (re.sub(\"[^0-9a-zA-Z]+\", \"\", word).lower(), 1)) \\\n",
        "             .reduceByKey(lambda a, b: a + b)\n",
        "words.take(5)"
      ],
      "execution_count": 7,
      "outputs": [
        {
          "output_type": "execute_result",
          "data": {
            "text/plain": [
              "[('purus', 21), ('dictum', 15), ('est', 11), ('mattis', 11), ('phasellus', 8)]"
            ]
          },
          "metadata": {
            "tags": []
          },
          "execution_count": 7
        }
      ]
    },
    {
      "cell_type": "code",
      "metadata": {
        "colab": {
          "base_uri": "https://localhost:8080/"
        },
        "id": "nI1-MzPphc4u",
        "outputId": "5b7c5510-0693-4140-fe30-f83eb80b744d"
      },
      "source": [
        "words.toDF()\\\n",
        "    .withColumnRenamed('_1', 'word')\\\n",
        "    .withColumnRenamed('_2', 'count')\\\n",
        "    .show()"
      ],
      "execution_count": 8,
      "outputs": [
        {
          "output_type": "stream",
          "text": [
            "+---------+-----+\n",
            "|     word|count|\n",
            "+---------+-----+\n",
            "|    purus|   21|\n",
            "|   dictum|   15|\n",
            "|      est|   11|\n",
            "|   mattis|   11|\n",
            "|phasellus|    8|\n",
            "|  rhoncus|   18|\n",
            "|  cubilia|   15|\n",
            "|     nunc|   13|\n",
            "|       at|   14|\n",
            "| interdum|   18|\n",
            "|     ante|   18|\n",
            "|     amet|   12|\n",
            "|   congue|   12|\n",
            "|    justo|   11|\n",
            "|     eget|   16|\n",
            "|    vitae|   16|\n",
            "|    lacus|   10|\n",
            "|   sociis|   17|\n",
            "|  quisque|   21|\n",
            "| inceptos|   18|\n",
            "+---------+-----+\n",
            "only showing top 20 rows\n",
            "\n"
          ],
          "name": "stdout"
        }
      ]
    },
    {
      "cell_type": "markdown",
      "metadata": {
        "id": "DhpDp-O3iwXz"
      },
      "source": [
        "**Contar as palavras que contém até 10 letras.**\n"
      ]
    },
    {
      "cell_type": "code",
      "metadata": {
        "colab": {
          "base_uri": "https://localhost:8080/"
        },
        "id": "jbXiJwq9hdu1",
        "outputId": "44a4d022-5bbf-43ba-fa5d-e4fbfacc4f8c"
      },
      "source": [
        "words_until_ten = text_file.flatMap(lambda line: line.split(\" \"))\\\n",
        "            .filter(lambda word: 0 < len(re.sub(\"[^0-9a-zA-Z]+\", \"\", word)) <= 10 )\\\n",
        "            .map(lambda word: (re.sub(\"[^0-9a-zA-Z]+\", \"\", word).lower(), 1)) \\\n",
        "            .reduceByKey(lambda a, b: a + b)\n",
        "words_until_ten.take(5)"
      ],
      "execution_count": 9,
      "outputs": [
        {
          "output_type": "execute_result",
          "data": {
            "text/plain": [
              "[('purus', 21), ('dictum', 15), ('est', 11), ('mattis', 11), ('phasellus', 8)]"
            ]
          },
          "metadata": {
            "tags": []
          },
          "execution_count": 9
        }
      ]
    },
    {
      "cell_type": "markdown",
      "metadata": {
        "id": "cTCDv4z8kaqH"
      },
      "source": [
        "**Conte também quantas palavras com mais de 10 letras existem no texto**\n"
      ]
    },
    {
      "cell_type": "code",
      "metadata": {
        "colab": {
          "base_uri": "https://localhost:8080/"
        },
        "id": "G22QlrtTkV74",
        "outputId": "8c82b815-461a-427d-8773-24a36ef1f6b3"
      },
      "source": [
        "words_greater_ten = text_file.flatMap(lambda line: line.split(\" \"))\\\n",
        "            .filter(lambda word: len(re.sub(\"[^0-9a-zA-Z]+\", \"\", word)) > 10 )\\\n",
        "            .map(lambda word: (re.sub(\"[^0-9a-zA-Z]+\", \"\", word).lower(), 1)) \\\n",
        "            .reduceByKey(lambda a, b: a + b)\n",
        "words_greater_ten.take(5)"
      ],
      "execution_count": 10,
      "outputs": [
        {
          "output_type": "execute_result",
          "data": {
            "text/plain": [
              "[('condimentum', 22),\n",
              " ('sollicitudin', 17),\n",
              " ('scelerisque', 19),\n",
              " ('ullamcorper', 18),\n",
              " ('pellentesque', 9)]"
            ]
          },
          "metadata": {
            "tags": []
          },
          "execution_count": 10
        }
      ]
    },
    {
      "cell_type": "markdown",
      "metadata": {
        "id": "FxDf-4HbkRZ8"
      },
      "source": [
        "Apesar do exemplo do dataset final mostrar o formato semelhante ao escrever `saveAsTextFile`, irei converter em DataFrame e salvar em CSV como pedido na introdução do teste."
      ]
    },
    {
      "cell_type": "code",
      "metadata": {
        "id": "tgmpn1ROmmDW"
      },
      "source": [
        "words_until_ten.toDF()\\\n",
        "    .withColumnRenamed('_1', 'word')\\\n",
        "    .withColumnRenamed('_2', 'count')\\\n",
        "    .coalesce(1).write.mode('overwrite').csv('output/task1/words_until_ten', header=True)"
      ],
      "execution_count": 11,
      "outputs": []
    },
    {
      "cell_type": "code",
      "metadata": {
        "id": "1MIrKBL8jZe9"
      },
      "source": [
        "words_greater_ten.toDF()\\\n",
        "    .withColumnRenamed('_1', 'word')\\\n",
        "    .withColumnRenamed('_2', 'count')\\\n",
        "    .coalesce(1).write.mode('overwrite').csv('output/task1/words_greater_then_ten', header=True)"
      ],
      "execution_count": 12,
      "outputs": []
    },
    {
      "cell_type": "markdown",
      "metadata": {
        "id": "wLLWdhkaoO71"
      },
      "source": [
        "## Task 2\n",
        "\n",
        "Leia o arquivo pedidos.csv e agrupe todos os cliente que fizeram mais de 2 compras nos dias de black friday dos últimos três anos. Filtre todos os clientes que são menores de 30 anos e coloque numa lista TODOS os códigos de pedido e a data em que foram efetuados. Adicione também a idade do cliente.\n",
        "\n",
        "Dataset: https://storage.googleapis.com/luizalabs-hiring-test/clientes_pedidos.csv\n",
        "\n",
        "> Nota: Os dados utilizados no desafio são antigos, portanto pode considerar os últimos 5 anos e não 3 como fala no teste 2.\n"
      ]
    },
    {
      "cell_type": "code",
      "metadata": {
        "colab": {
          "base_uri": "https://localhost:8080/"
        },
        "id": "jAVe-lk1of4B",
        "outputId": "696c9c7e-3b69-45f5-d832-3768bca5b59f"
      },
      "source": [
        "!mkdir -pv data/pedidos && curl -o data/pedidos/data.csv https://storage.googleapis.com/luizalabs-hiring-test/clientes_pedidos.csv"
      ],
      "execution_count": 13,
      "outputs": [
        {
          "output_type": "stream",
          "text": [
            "mkdir: created directory 'data/pedidos'\n",
            "  % Total    % Received % Xferd  Average Speed   Time    Time     Time  Current\n",
            "                                 Dload  Upload   Total   Spent    Left  Speed\n",
            "100 27.5M  100 27.5M    0     0  24.0M      0  0:00:01  0:00:01 --:--:-- 23.9M\n"
          ],
          "name": "stdout"
        }
      ]
    },
    {
      "cell_type": "code",
      "metadata": {
        "colab": {
          "base_uri": "https://localhost:8080/"
        },
        "id": "gsQ-rwjMop_Z",
        "outputId": "53b4d047-bd5c-425b-fe52-736f8e85e4bc"
      },
      "source": [
        "df = spark.read.csv('data/pedidos', header=True)\n",
        "df.show(truncate=False)"
      ],
      "execution_count": 14,
      "outputs": [
        {
          "output_type": "stream",
          "text": [
            "+--------------------------------+--------------------------------+-----------------------+-----------+\n",
            "|codigo_pedido                   |codigo_cliente                  |data_nascimento_cliente|data_pedido|\n",
            "+--------------------------------+--------------------------------+-----------------------+-----------+\n",
            "|bc8b03a005d5bf742fc7290db1b218de|b07af86a4a68707373856bcc3946583f|1985-12-04 00:00:00    |1542974527 |\n",
            "|19b0583adf75322cc58963f3e8eff362|eaaf6b26ef3b9712e384741d8fcf7555|1979-11-14 00:00:00    |1542998573 |\n",
            "|58fafb698b6d343e06c242a3254e1b7c|c69f2ab5fc61484d75905fd7a6d4f2ff|1989-07-25 00:00:00    |1543007822 |\n",
            "|79dd9f6c88ba32c9754bc3bbbb0f3939|b40678455119975170709c9607dbf52e|1953-12-14 00:00:00    |1542966096 |\n",
            "|968806d40adf6aa8c3768c439d8d82b2|7eecbc06bfec32b80654c7d76b3243c9|1985-05-03 00:00:00    |1543000756 |\n",
            "|b8c6e74cf1b462489e907a336b7597b0|f240c43e82dfe3ca0e4dca0bf5277d93|1980-04-16 00:00:00    |1542993637 |\n",
            "|5d91ea3b69a22d55bcfa5a4b536d416e|ae03fddbb707cb7398e3efd3cb08028a|1991-11-18 00:00:00    |1542996459 |\n",
            "|5e48766af0ffdfb60ad0261722449258|156f291101e8ba36b880cc6a459da6e0|1974-01-04 00:00:00    |1543004877 |\n",
            "|f85c3fdcb417a34316e36858cbaa2635|4cf8efefa3c5aef679d0f2e9448fc516|1985-04-18 00:00:00    |1542997957 |\n",
            "|8ff2a83de50bb06951ceece4b31d6de4|772b6ad0ae61400f61f66799b88c8874|1981-09-15 00:00:00    |1542999649 |\n",
            "|c96bcb263b22c56403458df8b6f2712e|013590f6b3bcbc02c83410fea6028c47|1996-04-17 00:00:00    |1543004689 |\n",
            "|b3a20e4bfb3799d70df07fcd08aac394|52c69e3a57331081823331c4e69d3f2e|1970-11-15 00:00:00    |1542976499 |\n",
            "|f87281ade12857969707a0c3581b0502|3d3ad8389c5262afd31c262709a859e4|1964-10-12 00:00:00    |1542999660 |\n",
            "|01674a423e4eda47467ac4b855deab8e|f7bc8b81f94b848ef143860de28e1007|1990-06-25 00:00:00    |1542991177 |\n",
            "|8728c27f783192e0553a3847bc72f9df|c91b57f94638bbb53ef2bc3707bf3486|1979-09-30 00:00:00    |1542994794 |\n",
            "|52cef602e302c7ae5954e2ca6fac3c5d|f83268e057fcc6e34829ae87756ae96d|1958-05-13 00:00:00    |1542964183 |\n",
            "|16fa4f9424ccc7288822368790d5c8a9|d0492d15d96771975ce0aa8caa5b13ab|1976-05-18 00:00:00    |1543000244 |\n",
            "|e0db31fffd47a2afef8226033cd17dbc|5155e0e22d6e366cd5fb74ccc2724f8d|1988-01-13 00:00:00    |1542981370 |\n",
            "|01bdf1612fdfe231b53b939080bbdd36|5f6fd6bdd0b9e7c293d2db01274d520d|1993-08-10 00:00:00    |1542969498 |\n",
            "|9f75beb74912623e0325312f8ec15929|f7220e557854dcacefef6f52dbedf7ef|1978-11-20 00:00:00    |1542996202 |\n",
            "+--------------------------------+--------------------------------+-----------------------+-----------+\n",
            "only showing top 20 rows\n",
            "\n"
          ],
          "name": "stdout"
        }
      ]
    },
    {
      "cell_type": "code",
      "metadata": {
        "colab": {
          "base_uri": "https://localhost:8080/"
        },
        "id": "dTSZ-EhMouR7",
        "outputId": "7ca1b9a8-e534-4611-b5bb-1c12e9d83c4e"
      },
      "source": [
        "df1 = df.withColumn('data_nascimento_cliente', col('data_nascimento_cliente').cast('timestamp'))\\\n",
        "    .withColumn('data_pedido', (col('data_pedido') * 1).cast('timestamp'))\\\n",
        "    .withColumn('idade', floor(datediff(current_date(), 'data_nascimento_cliente')/365))\n",
        "\n",
        "df1.show(truncate=False)"
      ],
      "execution_count": 15,
      "outputs": [
        {
          "output_type": "stream",
          "text": [
            "+--------------------------------+--------------------------------+-----------------------+-------------------+-----+\n",
            "|codigo_pedido                   |codigo_cliente                  |data_nascimento_cliente|data_pedido        |idade|\n",
            "+--------------------------------+--------------------------------+-----------------------+-------------------+-----+\n",
            "|bc8b03a005d5bf742fc7290db1b218de|b07af86a4a68707373856bcc3946583f|1985-12-04 00:00:00    |2018-11-23 12:02:07|35   |\n",
            "|19b0583adf75322cc58963f3e8eff362|eaaf6b26ef3b9712e384741d8fcf7555|1979-11-14 00:00:00    |2018-11-23 18:42:53|41   |\n",
            "|58fafb698b6d343e06c242a3254e1b7c|c69f2ab5fc61484d75905fd7a6d4f2ff|1989-07-25 00:00:00    |2018-11-23 21:17:02|32   |\n",
            "|79dd9f6c88ba32c9754bc3bbbb0f3939|b40678455119975170709c9607dbf52e|1953-12-14 00:00:00    |2018-11-23 09:41:36|67   |\n",
            "|968806d40adf6aa8c3768c439d8d82b2|7eecbc06bfec32b80654c7d76b3243c9|1985-05-03 00:00:00    |2018-11-23 19:19:16|36   |\n",
            "|b8c6e74cf1b462489e907a336b7597b0|f240c43e82dfe3ca0e4dca0bf5277d93|1980-04-16 00:00:00    |2018-11-23 17:20:37|41   |\n",
            "|5d91ea3b69a22d55bcfa5a4b536d416e|ae03fddbb707cb7398e3efd3cb08028a|1991-11-18 00:00:00    |2018-11-23 18:07:39|29   |\n",
            "|5e48766af0ffdfb60ad0261722449258|156f291101e8ba36b880cc6a459da6e0|1974-01-04 00:00:00    |2018-11-23 20:27:57|47   |\n",
            "|f85c3fdcb417a34316e36858cbaa2635|4cf8efefa3c5aef679d0f2e9448fc516|1985-04-18 00:00:00    |2018-11-23 18:32:37|36   |\n",
            "|8ff2a83de50bb06951ceece4b31d6de4|772b6ad0ae61400f61f66799b88c8874|1981-09-15 00:00:00    |2018-11-23 19:00:49|39   |\n",
            "|c96bcb263b22c56403458df8b6f2712e|013590f6b3bcbc02c83410fea6028c47|1996-04-17 00:00:00    |2018-11-23 20:24:49|25   |\n",
            "|b3a20e4bfb3799d70df07fcd08aac394|52c69e3a57331081823331c4e69d3f2e|1970-11-15 00:00:00    |2018-11-23 12:34:59|50   |\n",
            "|f87281ade12857969707a0c3581b0502|3d3ad8389c5262afd31c262709a859e4|1964-10-12 00:00:00    |2018-11-23 19:01:00|56   |\n",
            "|01674a423e4eda47467ac4b855deab8e|f7bc8b81f94b848ef143860de28e1007|1990-06-25 00:00:00    |2018-11-23 16:39:37|31   |\n",
            "|8728c27f783192e0553a3847bc72f9df|c91b57f94638bbb53ef2bc3707bf3486|1979-09-30 00:00:00    |2018-11-23 17:39:54|41   |\n",
            "|52cef602e302c7ae5954e2ca6fac3c5d|f83268e057fcc6e34829ae87756ae96d|1958-05-13 00:00:00    |2018-11-23 09:09:43|63   |\n",
            "|16fa4f9424ccc7288822368790d5c8a9|d0492d15d96771975ce0aa8caa5b13ab|1976-05-18 00:00:00    |2018-11-23 19:10:44|45   |\n",
            "|e0db31fffd47a2afef8226033cd17dbc|5155e0e22d6e366cd5fb74ccc2724f8d|1988-01-13 00:00:00    |2018-11-23 13:56:10|33   |\n",
            "|01bdf1612fdfe231b53b939080bbdd36|5f6fd6bdd0b9e7c293d2db01274d520d|1993-08-10 00:00:00    |2018-11-23 10:38:18|27   |\n",
            "|9f75beb74912623e0325312f8ec15929|f7220e557854dcacefef6f52dbedf7ef|1978-11-20 00:00:00    |2018-11-23 18:03:22|42   |\n",
            "+--------------------------------+--------------------------------+-----------------------+-------------------+-----+\n",
            "only showing top 20 rows\n",
            "\n"
          ],
          "name": "stdout"
        }
      ]
    },
    {
      "cell_type": "code",
      "metadata": {
        "colab": {
          "base_uri": "https://localhost:8080/"
        },
        "id": "c9Mol9I4ovmG",
        "outputId": "13cf861e-c812-42b3-9d16-afe4186fd583"
      },
      "source": [
        "df2 = df1.groupBy(['codigo_cliente', 'idade'])\\\n",
        "    .agg(count(lit(1)).alias(\"numero_pedidos\"), collect_list(struct('codigo_pedido', to_date(col('data_pedido')).alias('data_pedido')))\\\n",
        "    .alias('lista_pedidos'))\\\n",
        "    .filter('idade < 30 and numero_pedidos > 2')\n",
        "\n",
        "df2.show(truncate=False)"
      ],
      "execution_count": 16,
      "outputs": [
        {
          "output_type": "stream",
          "text": [
            "+--------------------------------+-----+--------------+------------------------------------------------------------------------------------------------------------------------------------------------------------------------------------------------------------------------------------------------------------------------------------------------------------------------------------------------------------------------------------------------------------------------------------------------------------------------------------------------------------------------------------------------------------------------------------------------------------------------------------------------------------------------------------------------------------------------------------------------------------------------------------------------------------------------------------------------------------------------------------------------------------------------------------------------+\n",
            "|codigo_cliente                  |idade|numero_pedidos|lista_pedidos                                                                                                                                                                                                                                                                                                                                                                                                                                                                                                                                                                                                                                                                                                                                                                                                                                                                                                                                   |\n",
            "+--------------------------------+-----+--------------+------------------------------------------------------------------------------------------------------------------------------------------------------------------------------------------------------------------------------------------------------------------------------------------------------------------------------------------------------------------------------------------------------------------------------------------------------------------------------------------------------------------------------------------------------------------------------------------------------------------------------------------------------------------------------------------------------------------------------------------------------------------------------------------------------------------------------------------------------------------------------------------------------------------------------------------------+\n",
            "|7d98d751235c83ba6e43649a5d28728c|28   |5             |[{c76d6c8a7c090c263e00278943b912cd, 2018-11-27}, {ead8850a78aee746ed01ae468caf44ea, 2018-11-09}, {aad8ec799710be4a74accdc268ba1ca1, 2018-11-17}, {fed34d86c15e957961992fe5b25b3be4, 2018-11-17}, {6a34fb376b1f504cf9ada60993a0d3e1, 2018-11-24}]                                                                                                                                                                                                                                                                                                                                                                                                                                                                                                                                                                                                                                                                                                |\n",
            "|ae631676ea94a93a08ea439712f22f6e|23   |3             |[{33038dbff97ffb9c9b275dc2c31ae5e2, 2017-11-14}, {5a1203463cfb9dedfbc5a8ac5009ef07, 2017-11-14}, {380fdb4ff6a6b55c9e8ab71934c58847, 2017-11-14}]                                                                                                                                                                                                                                                                                                                                                                                                                                                                                                                                                                                                                                                                                                                                                                                                |\n",
            "|c6650de649cfd9a8cabb6236487d2f12|26   |3             |[{98301c0c4f19801b518cdbd866808a7d, 2017-11-22}, {80632233487e02f3950cf4f6e4dfbe5b, 2017-11-11}, {7c8b5b9715af5a8b297b4fe7cf5f50af, 2017-11-11}]                                                                                                                                                                                                                                                                                                                                                                                                                                                                                                                                                                                                                                                                                                                                                                                                |\n",
            "|02ff1070000b7f6e2dc5c2eb407f5b10|29   |3             |[{5a8627222e488ad229a1630aca00f77e, 2018-11-30}, {7ffd4cd3a0ede038e708d08dfe7dc81d, 2018-11-30}, {02810bc19de7fb67c11e27d980cf8214, 2018-11-30}]                                                                                                                                                                                                                                                                                                                                                                                                                                                                                                                                                                                                                                                                                                                                                                                                |\n",
            "|b7e919918edc4b3d554dd64e18fb9dca|24   |3             |[{12f4e1c869c73ad7bd75d1525ed3b5d4, 2018-11-24}, {7c04362d0040e06c881372907c8363e7, 2018-11-06}, {d2bf27053970f06f4912cebfcf45a44c, 2018-11-07}]                                                                                                                                                                                                                                                                                                                                                                                                                                                                                                                                                                                                                                                                                                                                                                                                |\n",
            "|423a32fa7c0563057618dffe25c2e345|22   |3             |[{5868edcc32575cd89146f65747c49aa2, 2018-11-19}, {ed1b15891bad14ebaf979d0dd254d17c, 2018-11-19}, {39d6abe7bd56f51f6de6f7a1847e867d, 2018-11-19}]                                                                                                                                                                                                                                                                                                                                                                                                                                                                                                                                                                                                                                                                                                                                                                                                |\n",
            "|4b3da315f65b15fd0f7bd8f7cf7a6ff6|21   |4             |[{91f6d9ea3040fb9c12d7644cca3cb8c0, 2018-11-06}, {6063c31eb0a75917e46078385628e5c7, 2018-11-13}, {84ddaddd74e30d36d525c750c0ed1389, 2018-11-13}, {6063c31eb0a75917e46078385628e5c7, 2018-11-13}]                                                                                                                                                                                                                                                                                                                                                                                                                                                                                                                                                                                                                                                                                                                                                |\n",
            "|6e1169774159f1fd4295039b4b86d4b7|28   |3             |[{a95c0fd7777d4c4f2faf5511ca125968, 2018-11-16}, {f0a1846cd43820388dc647413ab6d478, 2018-11-16}, {bb6c66217e847264c1c8ed75dcbe7134, 2018-11-08}]                                                                                                                                                                                                                                                                                                                                                                                                                                                                                                                                                                                                                                                                                                                                                                                                |\n",
            "|4f0d566c77ec04c18ac657c68d884c12|6    |19            |[{ac9397caea658879c2a35c1821b5f059, 2017-11-08}, {84daf2fb352be76b851a0f6b08debc58, 2017-11-10}, {27c481758bd5dd57e2e7f9c7b50a534d, 2017-11-10}, {e7b46c3e6eb44dedea2581102f6dc28a, 2017-11-10}, {66f754e3666d2a3f35685d00ae0c2144, 2017-11-30}, {a4105e1ecd59442eec803e4110b837c1, 2017-11-30}, {42a0375140f7344a361e8b2d363cabf6, 2017-11-30}, {cc2ee379a7b0688556a849dc0b2d5f67, 2017-11-30}, {67255c689ebe5e378bea59f2b8bf4089, 2017-11-30}, {4ac70509c3b820f778fd63dad9627ad8, 2017-11-30}, {43004fe2339f202bf34f5d755e18db33, 2017-11-30}, {c671e4a76da1694b344200a596ae1632, 2017-11-30}, {c5d108f9f9ce3809d6f722bb589c5a64, 2017-11-30}, {aa0d041604d3d4c8e5d882cca2e52298, 2017-11-30}, {6e99915135e5104c0ff562c045451c1b, 2017-11-30}, {fd84f96d6eb4e207dd73bbd8b55f2834, 2017-11-09}, {e6ba4f86e97d70f14b86f22196f645c4, 2017-11-09}, {aeae53c0e980c96531b3ddb6ca33105d, 2017-11-11}, {a5dbab36d397b4215598c689cd1d9dd2, 2017-11-11}]|\n",
            "|94f0d386eabcb4ba4391043bede2c455|27   |4             |[{11e52502aa53c48adc2828a2733d46f2, 2017-11-29}, {5ea44ad6690bfea1358e3ddfef314419, 2017-11-29}, {003440dde7c97dd563f663106f9131ef, 2017-11-29}, {9cad4ed399fee076c93170ffc1234384, 2018-11-22}]                                                                                                                                                                                                                                                                                                                                                                                                                                                                                                                                                                                                                                                                                                                                                |\n",
            "|d65a7c95c42df9981f623b7cd36de60d|24   |4             |[{57d0fac102a85a6731b07762fdc3628e, 2018-11-06}, {22d709e2e3498c70a728cbe707fefc09, 2018-11-10}, {dbc6974a3a725d842c17987654cf8177, 2018-11-10}, {c082fbfb9decc1fe82b553b3405e234a, 2018-11-08}]                                                                                                                                                                                                                                                                                                                                                                                                                                                                                                                                                                                                                                                                                                                                                |\n",
            "|224743771e8600ebf32489f39512b5b1|21   |3             |[{590b55b2653f6ffe641fa5d221934f9c, 2018-11-23}, {a5f7b125e7858bc55bfd27b965e3591d, 2018-11-22}, {33543636216285f5336d89146f9d0626, 2018-11-22}]                                                                                                                                                                                                                                                                                                                                                                                                                                                                                                                                                                                                                                                                                                                                                                                                |\n",
            "|70be42e26a5dae715ed180772c030f80|21   |3             |[{f7c5c30adfcb616c7689c19ce0fdd632, 2018-11-06}, {19ac7a1847813fda8df7694b7c08508f, 2018-11-06}, {25f265c8eaf1d7530abde466b6aabbdf, 2018-11-28}]                                                                                                                                                                                                                                                                                                                                                                                                                                                                                                                                                                                                                                                                                                                                                                                                |\n",
            "|c9cd491f797a3133ff4534c9c2417fc4|24   |5             |[{fe99f833e792d11045fce939fb36bee2, 2017-11-12}, {d4daa7d770bd249c497287cc32cc19ee, 2017-11-12}, {5fe116c0a80e062c060847113ae97987, 2017-11-12}, {1becc49b47362a5074d03840608319e0, 2017-11-20}, {8a5acc4eb431b48d62440f5611677904, 2017-11-13}]                                                                                                                                                                                                                                                                                                                                                                                                                                                                                                                                                                                                                                                                                                |\n",
            "|e101fc57d35a3d707cd842e9ec57eae1|27   |4             |[{941556fbd29e63779ed771374a7d6bd9, 2018-11-27}, {ecd4210a9a10af511f5cfb2c632c76c3, 2018-11-28}, {b26bb0570145fbaa3cb0fd853e735258, 2018-11-28}, {494e6154bca41400562a9fcc17da3d4e, 2018-11-26}]                                                                                                                                                                                                                                                                                                                                                                                                                                                                                                                                                                                                                                                                                                                                                |\n",
            "|1c35a4e8309407e230df06cc334a6f0d|23   |3             |[{83b20a1315b8595591d6fb2a96d5a71e, 2018-11-22}, {069fbc9ac66b702437cbf833ed2c8e96, 2018-11-22}, {561f96740ef4f0d4cc63fac67ea93da3, 2018-11-22}]                                                                                                                                                                                                                                                                                                                                                                                                                                                                                                                                                                                                                                                                                                                                                                                                |\n",
            "|514df4ad5ff5a04342cbe3fe08e36211|21   |3             |[{531535e48212e60912338589be07eb5f, 2017-11-06}, {60d5179a377a78fa267466bef9d40b22, 2017-11-06}, {8ccb939ae8bf369406243ca8a9c458b5, 2017-11-06}]                                                                                                                                                                                                                                                                                                                                                                                                                                                                                                                                                                                                                                                                                                                                                                                                |\n",
            "|6464b192ccc5ea380331f27290c6cdde|28   |3             |[{db45fcd84a49ec9343a68a23206d17e5, 2017-11-08}, {4cbfb19392b308eeff4bf50191f290a6, 2017-11-08}, {d3c33a600e0c7c3f414a9efd038d1aa1, 2017-11-08}]                                                                                                                                                                                                                                                                                                                                                                                                                                                                                                                                                                                                                                                                                                                                                                                                |\n",
            "|9c6d6eeaf95c3088dfa3795421a62971|21   |6             |[{c423239e45f45b4b86c484a99c320737, 2018-11-10}, {fe121b4c030c3c20e4d9193c2998b46b, 2018-11-10}, {55e2b8de353f01580a09d4264c6de668, 2018-11-10}, {3b09af9a7718e645788714a65ebb3997, 2018-11-10}, {7380d9b1db250be5444e08228eb977a2, 2018-11-10}, {f212ed504b4a0ff819d97312285e9d77, 2018-11-10}]                                                                                                                                                                                                                                                                                                                                                                                                                                                                                                                                                                                                                                                |\n",
            "|9d30aa8673d317c73b1c37568ba71c49|27   |3             |[{9a75efd22275d135989830aa59690815, 2018-11-20}, {567692c8d116daa3356a43912eaecdc5, 2018-11-23}, {b92bcd5593f18e6b781eea84e0315927, 2018-11-23}]                                                                                                                                                                                                                                                                                                                                                                                                                                                                                                                                                                                                                                                                                                                                                                                                |\n",
            "+--------------------------------+-----+--------------+------------------------------------------------------------------------------------------------------------------------------------------------------------------------------------------------------------------------------------------------------------------------------------------------------------------------------------------------------------------------------------------------------------------------------------------------------------------------------------------------------------------------------------------------------------------------------------------------------------------------------------------------------------------------------------------------------------------------------------------------------------------------------------------------------------------------------------------------------------------------------------------------------------------------------------------------+\n",
            "only showing top 20 rows\n",
            "\n"
          ],
          "name": "stdout"
        }
      ]
    },
    {
      "cell_type": "code",
      "metadata": {
        "id": "5O6biYguvbdq"
      },
      "source": [
        "# Para abrir corretamente no Excel da versão do macOS\n",
        "# vamos converter o struct em uma lista contendo o seguinte formato:\n",
        "#  [[codigo_pedido, data_pedido], ...]\n",
        "# E transformaremos em string pois o spark tem a limitação de salvar array\n",
        "# de tipos mais simples em vez de estruturas mais complexas (struct e arrays)."
      ],
      "execution_count": 17,
      "outputs": []
    },
    {
      "cell_type": "code",
      "metadata": {
        "id": "aR7ub-vBpKL9"
      },
      "source": [
        "# Salvar o dado CSV\n",
        "convertStructToArrayUDF = udf(lambda z: str([[x[0], str(x[1])] for x in z]),StringType())\n",
        "\n",
        "df2.withColumn('lista_pedidos', convertStructToArrayUDF(col('lista_pedidos'))).write.mode('overwrite').csv('output/task2/result', header=True)"
      ],
      "execution_count": 18,
      "outputs": []
    },
    {
      "cell_type": "code",
      "metadata": {
        "id": "uIqTrVAsz7NJ"
      },
      "source": [
        "# Não usamos coaslesce para não correr o risco de estourar a memória heap. Assim, vamos carregar\n",
        "# este dado salvo novamente e reparticionar para gravar em apenas um arquivo.\n",
        "\n",
        "df_csv = spark.read.csv('output/task2/result', header=True)\n",
        "df_csv.coalesce(1).write.mode('overwrite').csv('output/task2/result_one_file', header=True)"
      ],
      "execution_count": 19,
      "outputs": []
    },
    {
      "cell_type": "markdown",
      "metadata": {
        "id": "iXdPrAdX1X2l"
      },
      "source": [
        "**Testando se o arquivo abre corretamente pelo Pandas**"
      ]
    },
    {
      "cell_type": "code",
      "metadata": {
        "colab": {
          "base_uri": "https://localhost:8080/",
          "height": 419
        },
        "id": "J6QoD74m1sJq",
        "outputId": "f922ad92-3b35-42dd-ca82-d034a6c5fc52"
      },
      "source": [
        "import os\n",
        "import glob\n",
        "import pandas as pd\n",
        "\n",
        "# Pegar o nome do arquivo CSV pois o pandas não suporta carregar csv pelo folder\n",
        "csv_files = glob.glob(os.path.join('output/task2/result_one_file', \"*.csv\"))\n",
        "data = pd.read_csv(f'{csv_files[0]}', header=0)\n",
        "data"
      ],
      "execution_count": 20,
      "outputs": [
        {
          "output_type": "execute_result",
          "data": {
            "text/html": [
              "<div>\n",
              "<style scoped>\n",
              "    .dataframe tbody tr th:only-of-type {\n",
              "        vertical-align: middle;\n",
              "    }\n",
              "\n",
              "    .dataframe tbody tr th {\n",
              "        vertical-align: top;\n",
              "    }\n",
              "\n",
              "    .dataframe thead th {\n",
              "        text-align: right;\n",
              "    }\n",
              "</style>\n",
              "<table border=\"1\" class=\"dataframe\">\n",
              "  <thead>\n",
              "    <tr style=\"text-align: right;\">\n",
              "      <th></th>\n",
              "      <th>codigo_cliente</th>\n",
              "      <th>idade</th>\n",
              "      <th>numero_pedidos</th>\n",
              "      <th>lista_pedidos</th>\n",
              "    </tr>\n",
              "  </thead>\n",
              "  <tbody>\n",
              "    <tr>\n",
              "      <th>0</th>\n",
              "      <td>9ba43b1b796103b4f020481d169bfd25</td>\n",
              "      <td>20</td>\n",
              "      <td>7106</td>\n",
              "      <td>[['ae5f74bbf632921ff465c391d115ec9a', '2018-11...</td>\n",
              "    </tr>\n",
              "    <tr>\n",
              "      <th>1</th>\n",
              "      <td>0fa42f07841dc1ca0a2982cd62934ac2</td>\n",
              "      <td>27</td>\n",
              "      <td>3</td>\n",
              "      <td>[['6c83d74346019ab0671ea68437678a34', '2018-11...</td>\n",
              "    </tr>\n",
              "    <tr>\n",
              "      <th>2</th>\n",
              "      <td>18d6d2ac14593d9a6570f63a980453f0</td>\n",
              "      <td>28</td>\n",
              "      <td>112</td>\n",
              "      <td>[['15e668c90e8926cd1655ce0c9db403e2', '2017-11...</td>\n",
              "    </tr>\n",
              "    <tr>\n",
              "      <th>3</th>\n",
              "      <td>2bb58c03967eb8c4ee3df3a3e6516504</td>\n",
              "      <td>20</td>\n",
              "      <td>4</td>\n",
              "      <td>[['e1af9ebb325a39930d0871fca6500f9f', '2018-11...</td>\n",
              "    </tr>\n",
              "    <tr>\n",
              "      <th>4</th>\n",
              "      <td>52c69e3a57331081823331c4e69d3f2e</td>\n",
              "      <td>27</td>\n",
              "      <td>3390</td>\n",
              "      <td>[['eedd47e8f3753bbec6fa4b278d88f209', '2017-11...</td>\n",
              "    </tr>\n",
              "    <tr>\n",
              "      <th>...</th>\n",
              "      <td>...</td>\n",
              "      <td>...</td>\n",
              "      <td>...</td>\n",
              "      <td>...</td>\n",
              "    </tr>\n",
              "    <tr>\n",
              "      <th>724</th>\n",
              "      <td>9c99541228b2f3cc30b80baccf914dfc</td>\n",
              "      <td>21</td>\n",
              "      <td>3</td>\n",
              "      <td>[['785f1f1b8edf91078bc96885e32d7d5b', '2018-11...</td>\n",
              "    </tr>\n",
              "    <tr>\n",
              "      <th>725</th>\n",
              "      <td>45d1c732e44375967abf3d7ede5b0187</td>\n",
              "      <td>22</td>\n",
              "      <td>3</td>\n",
              "      <td>[['d9433dbbe6b7808a03744b9672bdc3ef', '2018-11...</td>\n",
              "    </tr>\n",
              "    <tr>\n",
              "      <th>726</th>\n",
              "      <td>fca65461d6f37510b34a3ea3f6fd211a</td>\n",
              "      <td>26</td>\n",
              "      <td>3</td>\n",
              "      <td>[['5e4fe79826b6f59850a44869e3f9147f', '2018-11...</td>\n",
              "    </tr>\n",
              "    <tr>\n",
              "      <th>727</th>\n",
              "      <td>197d8c66c65a88d59b82d90ed4e9ce35</td>\n",
              "      <td>26</td>\n",
              "      <td>3</td>\n",
              "      <td>[['950c5f34fbb963a4993c3f1ca5e62af7', '2017-11...</td>\n",
              "    </tr>\n",
              "    <tr>\n",
              "      <th>728</th>\n",
              "      <td>43b9555ce33ecd1fc727b46a9a637825</td>\n",
              "      <td>27</td>\n",
              "      <td>3</td>\n",
              "      <td>[['3104b0041dcf628629d762f55d1b705e', '2018-11...</td>\n",
              "    </tr>\n",
              "  </tbody>\n",
              "</table>\n",
              "<p>729 rows × 4 columns</p>\n",
              "</div>"
            ],
            "text/plain": [
              "                       codigo_cliente  ...                                      lista_pedidos\n",
              "0    9ba43b1b796103b4f020481d169bfd25  ...  [['ae5f74bbf632921ff465c391d115ec9a', '2018-11...\n",
              "1    0fa42f07841dc1ca0a2982cd62934ac2  ...  [['6c83d74346019ab0671ea68437678a34', '2018-11...\n",
              "2    18d6d2ac14593d9a6570f63a980453f0  ...  [['15e668c90e8926cd1655ce0c9db403e2', '2017-11...\n",
              "3    2bb58c03967eb8c4ee3df3a3e6516504  ...  [['e1af9ebb325a39930d0871fca6500f9f', '2018-11...\n",
              "4    52c69e3a57331081823331c4e69d3f2e  ...  [['eedd47e8f3753bbec6fa4b278d88f209', '2017-11...\n",
              "..                                ...  ...                                                ...\n",
              "724  9c99541228b2f3cc30b80baccf914dfc  ...  [['785f1f1b8edf91078bc96885e32d7d5b', '2018-11...\n",
              "725  45d1c732e44375967abf3d7ede5b0187  ...  [['d9433dbbe6b7808a03744b9672bdc3ef', '2018-11...\n",
              "726  fca65461d6f37510b34a3ea3f6fd211a  ...  [['5e4fe79826b6f59850a44869e3f9147f', '2018-11...\n",
              "727  197d8c66c65a88d59b82d90ed4e9ce35  ...  [['950c5f34fbb963a4993c3f1ca5e62af7', '2017-11...\n",
              "728  43b9555ce33ecd1fc727b46a9a637825  ...  [['3104b0041dcf628629d762f55d1b705e', '2018-11...\n",
              "\n",
              "[729 rows x 4 columns]"
            ]
          },
          "metadata": {
            "tags": []
          },
          "execution_count": 20
        }
      ]
    },
    {
      "cell_type": "code",
      "metadata": {
        "id": "nxlueZGk1C-g"
      },
      "source": [
        ""
      ],
      "execution_count": 20,
      "outputs": []
    }
  ]
}